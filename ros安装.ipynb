{
 "cells": [
  {
   "cell_type": "markdown",
   "metadata": {},
   "source": [
    "# 安装ros\n",
    "> 官网教程http://wiki.ros.org   \n",
    "换源网站https://mirror.tuna.tsinghua.edu.cn/help/ubuntu/   \n",
    "安装完后验证 roscd    roswtf   roscore\n"
   ]
  },
  {
   "cell_type": "markdown",
   "metadata": {},
   "source": [
    "# 安装 robo ware  \n"
   ]
  },
  {
   "cell_type": "markdown",
   "metadata": {},
   "source": [
    "RoboWare官网：http://www.roboware.me/#/home   \n",
    "选择合适的版本下载，注意32位与64位之分。下载完以后先不要着急安装，为了更好地使用RoboWare Studio，我们需要事先安装两个比较常用的插件。  "
   ]
  },
  {
   "cell_type": "markdown",
   "metadata": {},
   "source": [
    "1、为了支持Python调试功能，需要安装pylint：  \n",
    ">sudo apt-get install python-pip   \n",
    "sudo python -m pip install pylint   "
   ]
  },
  {
   "cell_type": "markdown",
   "metadata": {},
   "source": [
    "2、为了获得更好的代码阅读体验，自动格式化整理代码，需要安装clang-format：   \n",
    ">sudo apt-get install clang-format-3.8"
   ]
  },
  {
   "cell_type": "markdown",
   "metadata": {},
   "source": [
    "3、接下来开始安装：   \n",
    "\n",
    ">cd ~/下载/   \n",
    "sudo dpkg -i roboware-studio_1.1.0-1514335284_amd64.deb   \n"
   ]
  },
  {
   "cell_type": "markdown",
   "metadata": {},
   "source": [
    "4、安装完成后，直接在终端输入$ roboware-studio敲回车，软件就自动打开了。 \n",
    ">RoboWare Studio是基于微软开源的Visual Studio Code内核开发的，这个界面可以说是跟VSCode非常像了。为了方便以后使用，我们可以右键将其锁定到启动器。"
   ]
  },
  {
   "cell_type": "markdown",
   "metadata": {},
   "source": [
    "5、有些同学打开软件后可能会提示git不是最新版本，依次执行下面的命令即可更新至最新版：\n",
    ">\n",
    ">git --version  \n",
    "sudo add-apt-repository ppa:git-core/ppa  \n",
    "sudo apt-get update  \n",
    "sudo apt-get install git  \n",
    "git --version"
   ]
  },
  {
   "cell_type": "markdown",
   "metadata": {},
   "source": [
    "6、 OK！现在我们可以打开一个ROS工作区，然后再打开一个源码文件。当我们想对代码进行自动排版时，可以使用Ctrl+Shift+P，输入“format”回车，或者使用快捷键Ctrl+Shift+I，或者直接在代码区右键点击“Format Document”。但是刚才明明已经事先安装了 clang-format-3.8，它却提示“clang-format”命令不可用： \n",
    ">\n",
    ">whereis clang-format-3  \n",
    "sudo ln -s /usr/bin/clang-format-3.8 /usr/bin/clang-format  \n",
    "将path1 关联入path2"
   ]
  },
  {
   "cell_type": "markdown",
   "metadata": {},
   "source": []
  },
  {
   "cell_type": "markdown",
   "metadata": {},
   "source": []
  },
  {
   "cell_type": "markdown",
   "metadata": {},
   "source": []
  }
 ],
 "metadata": {
  "kernelspec": {
   "display_name": "Python 3",
   "language": "python",
   "name": "python3"
  },
  "language_info": {
   "codemirror_mode": {
    "name": "ipython",
    "version": 3
   },
   "file_extension": ".py",
   "mimetype": "text/x-python",
   "name": "python",
   "nbconvert_exporter": "python",
   "pygments_lexer": "ipython3",
   "version": "3.7.1"
  }
 },
 "nbformat": 4,
 "nbformat_minor": 2
}
